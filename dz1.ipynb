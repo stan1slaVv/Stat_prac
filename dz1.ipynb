{
 "cells": [
  {
   "cell_type": "markdown",
   "metadata": {
    "id": "BPnoMGlR4rUB"
   },
   "source": [
    "<a href=\"https://colab.research.google.com/drive/1Nx_klyuwQfMlq_v3woczmeeI3ZKiSdvY?usp=sharing\" target=\"_parent\"><img src=\"https://colab.research.google.com/assets/colab-badge.svg\" alt=\"Open In Colab\"/></a>"
   ]
  },
  {
   "cell_type": "markdown",
   "metadata": {
    "id": "xw8BD8v2oBGj"
   },
   "source": [
    "# Homework"
   ]
  },
  {
   "cell_type": "markdown",
   "metadata": {
    "id": "sSos7q2_oBGj"
   },
   "source": [
    "## Problem 1"
   ]
  },
  {
   "cell_type": "markdown",
   "metadata": {
    "id": "NiX8ePp0oBGk"
   },
   "source": [
    "Make a tuple containing natural numbers, the square of which is a multiple of 3, 4, but not a multiple of 8 and not exceeding 12345."
   ]
  },
  {
   "cell_type": "code",
   "execution_count": 4,
   "metadata": {
    "id": "XmPHEnS9oBGk"
   },
   "outputs": [
    {
     "name": "stdout",
     "output_type": "stream",
     "text": [
      "(6, 18, 30, 42, 54, 66, 78, 90, 102)\n"
     ]
    }
   ],
   "source": [
    "# Checking if number satisfies the requirements\n",
    "def is_valid(n):\n",
    "    square = n ** 2\n",
    "    return square % 12 == 0 and square % 8 != 0\n",
    "\n",
    "# Generating the tuple with numbers whose square are valid\n",
    "numbers = tuple(n for n in range(1, int(12345**0.5) + 1) if is_valid(n))\n",
    "\n",
    "print(numbers) #Printing the tuple"
   ]
  },
  {
   "cell_type": "markdown",
   "metadata": {
    "id": "OZBeUyxcoBGk"
   },
   "source": [
    "## Problem 2"
   ]
  },
  {
   "cell_type": "markdown",
   "metadata": {
    "id": "zIfvg22noBGk"
   },
   "source": [
    "\n",
    "Write a function that takes a two-dimensional array and a string as input and returns an array rotated 90 degrees counterclockwise if the string 'left' was passed, and clockwise if the string 'right' was passed.\n",
    "\n",
    "Example for input: $\\begin{bmatrix} 1 & 2 & 3 \\\\ 4 & 5 & 6 \\\\ 7 & 8 & 9 \\end{bmatrix}$.\\\n",
    "If the string 'left' is passed, the function should return $\\begin{bmatrix} 3 & 6 & 9 \\\\ 2 & 5 & 8 \\\\ 1 & 4 & 7 \\end{bmatrix}$, and if the string 'right' is passed, the function should return $\\begin{bmatrix} 7 & 4 & 1 \\\\ 8 & 5 & 2 \\\\ 9 & 6 & 3 \\end{bmatrix}$."
   ]
  },
  {
   "cell_type": "code",
   "execution_count": 1,
   "metadata": {
    "id": "HNvy_cRjoBGk"
   },
   "outputs": [
    {
     "name": "stdout",
     "output_type": "stream",
     "text": [
      "Rotated Left:\n",
      "[3, 6, 9]\n",
      "[2, 5, 8]\n",
      "[1, 4, 7]\n",
      "Rotated Right:\n",
      "[7, 4, 1]\n",
      "[8, 5, 2]\n",
      "[9, 6, 3]\n"
     ]
    }
   ],
   "source": [
    "def rotate_matrix(matrix, direction):\n",
    "    rows, cols = len(matrix), len(matrix[0])\n",
    "    if direction == \"left\":  # Counterclockwise rotation\n",
    "        return [[matrix[j][i] for j in range(rows)] for i in range(cols - 1, -1, -1)] \n",
    "        #first row becomes first column where the first element is in bottom and etc.\n",
    "    elif direction == \"right\":  # Clockwise rotation\n",
    "        return [[matrix[j][i] for j in range(rows - 1, -1, -1)] for i in range(cols)]\n",
    "        #first row becomes last column where the first element is in top and etc.\n",
    "    else:\n",
    "        raise ValueError(\"Direction must be 'left' or 'right'\")\n",
    "        #String may be not \"left\" and \"right\"\n",
    "\n",
    "# Example with the matrix above\n",
    "matrix = [\n",
    "    [1, 2, 3],\n",
    "    [4, 5, 6],\n",
    "    [7, 8, 9]\n",
    "]\n",
    "\n",
    "rotated_left = rotate_matrix(matrix, 'left')\n",
    "rotated_right = rotate_matrix(matrix, 'right')\n",
    "#printing two rotations \n",
    "print(\"Rotated Left:\")\n",
    "for row in rotated_left:\n",
    "    print(row)\n",
    "\n",
    "print(\"Rotated Right:\")\n",
    "for row in rotated_right:\n",
    "    print(row)"
   ]
  },
  {
   "cell_type": "markdown",
   "metadata": {
    "id": "_dY-PFlCoBGk"
   },
   "source": [
    "## Problem 3"
   ]
  },
  {
   "cell_type": "markdown",
   "metadata": {
    "id": "3CaIwcm0oBGk"
   },
   "source": [
    "Write a function that takes a string as input and returns a dictionary containing the number of occurrences of each character in the string.\n",
    "\n",
    "Example for the string 'hello, world!': {'h': 1, 'e': 1, 'l': 3, 'o': 2, ',': 1, ' ': 1, 'w': 1, 'r': 1, 'd': 1, '!': 1}."
   ]
  },
  {
   "cell_type": "code",
   "execution_count": 3,
   "metadata": {
    "id": "rlSbHusZoBGk"
   },
   "outputs": [
    {
     "name": "stdout",
     "output_type": "stream",
     "text": [
      "{'h': 1, 'e': 1, 'l': 3, 'o': 2, ',': 1, ' ': 1, 'w': 1, 'r': 1, 'd': 1, '!': 1}\n"
     ]
    }
   ],
   "source": [
    "def char_count(s):\n",
    "    count_dict = {} #string where we will keep answer\n",
    "    for char in s:\n",
    "        count_dict[char] = count_dict.get(char, 0) + 1 #taking a char from s and add it to our string (or count if we met it already)\n",
    "    return count_dict\n",
    "\n",
    "# Example \n",
    "string = 'hello, world!'\n",
    "result = char_count(string)\n",
    "print(result)"
   ]
  },
  {
   "cell_type": "markdown",
   "metadata": {
    "id": "KBGJ7PeboBGk"
   },
   "source": [
    "## Problem 4"
   ]
  },
  {
   "cell_type": "markdown",
   "metadata": {
    "id": "XS4Seqa9oBGk"
   },
   "source": [
    "### Implementing a Library Management System\n",
    "\n",
    "#### Description\n",
    "\n",
    "You are required to design and implement a system for managing books and users in a library. The system should allow for the management of books (adding, deleting, searching by various criteria) and users (registration, deletion, searching), as well as tracking the history of interactions between them (issuing and returning books).\n",
    "\n",
    "#### Tasks\n",
    "\n",
    "1. **`Book` Class**:\n",
    "   - Attributes: title, author, year of publication, ISBN, number of copies.\n",
    "   - Methods: constructor, methods to get information about the book, method to change the number of copies (when issuing and returning books).\n",
    "\n",
    "2. **`User` Class**:\n",
    "   - Attributes: user name, library card number, list of borrowed books.\n",
    "   - Methods: constructor, methods for user registration, methods for adding and removing books from the borrowed list.\n",
    "\n",
    "3. **`Library` Class**:\n",
    "   - Attributes: list of books, list of users, transaction history (who, when, which book was borrowed and returned).\n",
    "   - Methods: constructor, methods for adding and deleting books and users, methods for issuing and returning books, searching for books and users by various criteria, method to display the transaction history.\n",
    "\n",
    "#### Assignment\n",
    "\n",
    "1. Implement the `Book`, `User`, and `Library` classes with the specified attributes and methods.\n",
    "2. Create several books and users, and add them to the library system.\n",
    "3. Implement scenarios for issuing books to users and their return.\n",
    "4. Display the transaction history to show how books were issued and returned.\n"
   ]
  },
  {
   "cell_type": "code",
   "execution_count": null,
   "metadata": {
    "id": "IbqwtWWsoBGl"
   },
   "outputs": [],
   "source": [
    "class Book:\n",
    "    def constr(b, title, author, year, isbn, copies):\n",
    "        b.title = title\n",
    "        b.author = author\n",
    "        b.year = year\n",
    "        b.isbn = isbn\n",
    "        b.copies = copies #constructor\n",
    "\n",
    "    def get_info(b):\n",
    "        return f\"{b.title} by {b.author}, {b.year} (ISBN: {b.isbn}), Copies: {b.copies}\" #All info about book\n",
    "\n",
    "    def update_copies(b, amount):\n",
    "        b.copies += amount        #Changing number of books\n",
    "\n",
    "    # Specific information about book\n",
    "    def get_title(b):\n",
    "        return b.title\n",
    "\n",
    "    def get_author(b):\n",
    "        return b.author\n",
    "\n",
    "    def get_year(b):\n",
    "        return b.year\n",
    "\n",
    "    def get_isbn(b):\n",
    "        return b.isbn\n",
    "\n",
    "    def get_copies(b):\n",
    "        return b.copies\n",
    "\n",
    "\n",
    "class User:\n",
    "    def constr(u, name, card_number):\n",
    "        u.name = name\n",
    "        u.card_number = card_number\n",
    "        u.borrowed_books = []   #constructor\n",
    "\n",
    "    def register(u):\n",
    "        return f\"User {u.name} with card {u.card_number} registered.\" #user registration\n",
    "\n",
    "    def borrow_book(u, book):\n",
    "        if book.copies > 0:\n",
    "            u.borrowed_books.append(book)\n",
    "            book.update_copies(-1)\n",
    "            return f\"{u.name} borrowed {book.title}.\"\n",
    "        return \"Book not available.\" #function that shows that user borrows book (and updates number of copies)\n",
    "\n",
    "    def return_book(u, book):\n",
    "        if book in u.borrowed_books:\n",
    "            u.borrowed_books.remove(book)\n",
    "            book.update_copies(1)\n",
    "            return f\"{u.name} returned {book.title}.\"\n",
    "        return \"Book not borrowed.\" #return works the same way as borrow\n",
    "\n",
    "class Library:\n",
    "    def constr(lib):\n",
    "        lib.books = []\n",
    "        lib.users = []\n",
    "        lib.transaction_history = [] #constructor\n",
    "\n",
    "    def add_book(lib, book):\n",
    "        lib.books.append(book)\n",
    "        return f\"Book {book.title} added.\" #New book in library\n",
    "\n",
    "    def remove_book(lib, isbn):\n",
    "        for book in lib.books:\n",
    "            if book.isbn == isbn:\n",
    "                lib.books.remove(book)\n",
    "                return f\"Book {book.title} removed.\"\n",
    "        return \"Book not found.\" #Deleting book from library\n",
    "\n",
    "    def add_user(lib, user):\n",
    "        lib.users.append(user)\n",
    "        return f\"User {user.name} added.\" #same as with books\n",
    "\n",
    "    def remove_user(lib, card_number):\n",
    "        for user in lib.users:\n",
    "            if user.card_number == card_number:\n",
    "                lib.users.remove(user)\n",
    "                return f\"User {user.name} removed.\"\n",
    "        return \"User not found.\"\n",
    "#Searching book by keyword (in name or author)\n",
    "    def search_books(lib, keyword):\n",
    "        return [book.get_info() for book in lib.books if keyword.lower() in book.title.lower() or keyword.lower() in book.author.lower()] \n",
    "#Searching book by name\n",
    "    def search_users(lib, name):\n",
    "        return [user.name for user in lib.users if name.lower() in user.name.lower()]\n",
    "#Gives book with given isbn to a user (if this can happen)\n",
    "    def give_book(lib, card_number, isbn):\n",
    "        user = next((u for u in lib.users if u.card_number == card_number), None)\n",
    "        book = next((b for b in lib.books if b.isbn == isbn), None)\n",
    "        if user and book:\n",
    "            result = user.borrow_book(book)\n",
    "            lib.transaction_history.append(f\"{user.name} borrowed {book.title}\")\n",
    "            return result\n",
    "        return \"User or book not found.\"\n",
    "#Returns book\n",
    "    def return_book(lib, card_number, isbn):\n",
    "        user = next((u for u in lib.users if u.card_number == card_number), None)\n",
    "        book = next((b for b in lib.books if b.isbn == isbn), None)\n",
    "        if user and book:\n",
    "            result = user.return_book(book)\n",
    "            lib.transaction_history.append(f\"{user.name} returned {book.title}\")\n",
    "            return result\n",
    "        return \"User or book not found.\"\n",
    "#Shows all transaction history\n",
    "    def show_transaction_history(lib):\n",
    "        return \"\\n\".join(lib.transaction_history)\n",
    "\n",
    "\n",
    "\n",
    "#Creating library\n",
    "library = Library()\n",
    "library.constr()\n",
    "\n",
    "# Adding book\n",
    "book1 = Book()\n",
    "book1.constr(\"War and Peace\", \"Leo Tolstoy\", 1869, \"12345\", 3)\n",
    "library.add_book(book1)\n",
    "book2 = Book()\n",
    "book2.constr(\"Crime and Punishment\", \"Fyodor Dostoevsky\", 1866, \"123456\", 1)\n",
    "library.add_book(book2)\n",
    "\n",
    "# Adding user\n",
    "user = User()\n",
    "user.constr(\"Stanislav\", \"0001\")\n",
    "library.add_user(user)\n",
    "\n",
    "# Giving book to user\n",
    "library.give_book(\"0001\", \"12345\")  \n",
    "\n",
    "# Returning book\n",
    "library.return_book(\"0001\", \"12345\")  \n",
    "\n",
    "#Giving second book\n",
    "library.give_book(\"0001\", \"123456\")\n",
    "\n",
    "# Showing all transaction history\n",
    "print(library.show_transaction_history())"
   ]
  },
  {
   "cell_type": "markdown",
   "metadata": {
    "id": "0c8zRbSIoBGl"
   },
   "source": [
    "## Problem 5*"
   ]
  },
  {
   "cell_type": "markdown",
   "metadata": {
    "id": "8ltdzRmOoBGl"
   },
   "source": [
    "Explain why list `b` changes after the execution of the following code:\n",
    "\n",
    "```python\n",
    "a = [1, 2, 3]\n",
    "b = a\n",
    "a[0] = 4\n",
    "print(b)\n",
    "```"
   ]
  },
  {
   "cell_type": "markdown",
   "metadata": {
    "id": "RxgnUfFPoBGl"
   },
   "source": [
    "> Write your answer in markdown cell after:"
   ]
  },
  {
   "cell_type": "markdown",
   "metadata": {
    "id": "Mb-amOX5oBGl"
   },
   "source": [
    "b is not a new list, just another reference to the list object that a refers to. So a and b point to the same array( to the same memory location) and modyfying a also affects b. It means a[0] = 4 and b[0] = 4 are the same operations.\n"
   ]
  },
  {
   "cell_type": "markdown",
   "metadata": {
    "id": "TmXLkc_foBGl"
   },
   "source": [
    "## Problem 6*"
   ]
  },
  {
   "cell_type": "markdown",
   "metadata": {
    "id": "Gn0ibiVCoBGl"
   },
   "source": [
    "Let\n",
    "$$A = \\sum_{i=1}^{10000} \\frac{1}{i^2},\\quad B=\\sum_{i=10000}^{1} \\frac{1}{i^2}.$$\n",
    "Calculate the values of $A$ and $B$ and compare them. What do you observe? Explain why this happens. What is the best way to calculate the value of $\\sum\\limits_{i=1}^{10000} \\dfrac{1}{i^2}$?"
   ]
  },
  {
   "cell_type": "code",
   "execution_count": null,
   "metadata": {
    "id": "3q93uGqFoBGl"
   },
   "outputs": [],
   "source": [
    "#code to calculate A and B\n",
    "def sum_A(N):\n",
    "    return sum(1 / (i**2) for i in range(1, N+1))\n",
    "\n",
    "def sum_B(N):\n",
    "    return sum(1 / (i**2) for i in range(N, 0, -1)) #reverse sum\n",
    "\n",
    "N = 10000\n",
    "\n",
    "A_value = sum_A(N)\n",
    "B_value = sum_B(N)\n",
    "\n",
    "print(\"A :\", A_value)\n",
    "print(\"B :\", B_value)\n",
    "#Output we get:\n",
    "A : 1.6448340718480652\n",
    "B : 1.6448340718480596\n",
    "\n",
    "The two results are very close but not the same because of floating point arithmetic.\n",
    "When summing from 1 to 10,000, we start with larger numbers (1, 1/4...) and then add smaller numbers (up to 1/10000^2). \n",
    "When summing from 10,000 to 1, we start with small numbers (1/10,000^2, 1/9999^2) and then add larger numbers. \n",
    "In the first case, small numbers get lost due to limited precision when added to larger ones. \n",
    "In the second case it does not happen because we begin with smaller ones.\n",
    "\n"
   ]
  }
 ],
 "metadata": {
  "colab": {
   "provenance": []
  },
  "kernelspec": {
   "display_name": "Python 3 (ipykernel)",
   "language": "python",
   "name": "python3"
  },
  "language_info": {
   "codemirror_mode": {
    "name": "ipython",
    "version": 3
   },
   "file_extension": ".py",
   "mimetype": "text/x-python",
   "name": "python",
   "nbconvert_exporter": "python",
   "pygments_lexer": "ipython3",
   "version": "3.12.7"
  }
 },
 "nbformat": 4,
 "nbformat_minor": 4
}
